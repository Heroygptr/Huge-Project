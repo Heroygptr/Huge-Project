{
 "cells": [
  {
   "cell_type": "markdown",
   "metadata": {},
   "source": [
    "# 为什么做这个文件\n",
    "我们小组对郑老师所说的更多内容（如网络评论）感兴趣，同时队伍中我的工作量没有很大，因此做了一个爬虫用以开头"
   ]
  },
  {
   "cell_type": "code",
   "execution_count": 4,
   "metadata": {},
   "outputs": [],
   "source": [
    "import requests\n",
    "from bs4 import BeautifulSoup\n",
    "from lxml import etree\n",
    "import time\n",
    "\n",
    "def get_html(url):\n",
    "    '''\n",
    "    获得 HTML，返回text格式，模拟网页访问，网站会一定程度反爬\n",
    "    '''\n",
    "    headers = {\n",
    "        'user-agent': 'Mozilla/5.0 (Windows NT 10.0; Win64; x64) AppleWebKit/53\\\n",
    "        7.36 (KHTML, like Gecko) Chrome/84.0.4147.135 Safari/537.36'\n",
    "    }\n",
    "    response = requests.get(url, headers=headers)\n",
    "    if response.status_code == 200:\n",
    "        return response.text\n",
    "        #判断网页返回的状态码，200代表连接成功\n",
    "    else:\n",
    "        return\n",
    "\n",
    "def get_infos(html):\n",
    "    r_xpath = etree.HTML(html)\n",
    "    title = r_xpath.xpath('//*[@id=\"articlelistnew\"]/div[2]/span[3]/a/text()')\n",
    "    date = r_xpath.xpath('//*[@id=\"articlelistnew\"]/div[2]/span[5]/text()')  \n",
    "    datas = []\n",
    "    datas.append({'date':date,'title':title})\n",
    "    return datas"
   ]
  },
  {
   "cell_type": "markdown",
   "metadata": {},
   "source": [
    "# 使用xpath定位内容\n",
    "股吧的网页与一般教程网页区别较大，我在正则表达式、selector、特征和xpath中走了许多弯路，查了许多教程，各种冲突报错不输出，自己查参数查函数查格式最后终于输出了（泪目！！）\n",
    "# 函数返回值\n",
    "`get_html()`返回所给url的text文本格式，`get_infos()`所给text的文本web通过`etree_HTML()`函数输出为xpath的格式，通过定位选取了该网页第一个帖子的date和title，并且打包为字典格式输出。<br>\n",
    "\n",
    "最初选择字典是易于输出json，但后续发现网页编码和正常编码不一致，输出的json无法打开，在**助教薛凤鸣**师兄的帮助下将字典转化为dataframe格式输出为csv格式（再次泪目！！）"
   ]
  },
  {
   "cell_type": "code",
   "execution_count": 5,
   "metadata": {},
   "outputs": [],
   "source": [
    "all_datas = []\n",
    "urls = ['http://guba.eastmoney.com/list,601727,f_{}.html'\n",
    "            .format(str(i)) for i in range(1, 24)]    \n",
    "for url in urls:\n",
    "    html = get_html(url)\n",
    "    all_datas.extend(get_infos(html))\n",
    "    time.sleep(1)\n",
    "    #每过一秒，再次执行下一个网页，避免给服务器造成压力"
   ]
  },
  {
   "cell_type": "markdown",
   "metadata": {},
   "source": [
    "# 主函数\n",
    "使用了一个循环，查找了24页的帖子，都是输出第一条帖子的评论和时间，在下面可以看到时间有一定跨度，由于工程量没有进行文本倾向分析的建模，所以只选取了24个帖子作为参考。"
   ]
  },
  {
   "cell_type": "code",
   "execution_count": 6,
   "metadata": {},
   "outputs": [
    {
     "data": {
      "text/plain": [
       "[{'date': ['08-20 00:12'], 'title': ['跑步入场！投资者数量首破1.7亿！新增2600亿杠杆资金 ']},\n",
       " {'date': ['08-18 15:04'], 'title': ['要整体上市吗']},\n",
       " {'date': ['08-18 09:05'], 'title': ['上海电气：融资净买入1829.49万元，融资余额8.8亿元（']},\n",
       " {'date': ['08-14 21:56'], 'title': ['[惨!关灯吃面][惨!关灯吃面][惨!关灯吃面]']},\n",
       " {'date': ['08-13 22:31'], 'title': ['政策性AMC还有多远？']},\n",
       " {'date': ['08-12 13:34'], 'title': ['手续费太便宜了']},\n",
       " {'date': ['08-11 14:56'], 'title': ['这就不能怪庄家不给力了，架不住猪队友太多']},\n",
       " {'date': ['08-11 11:35'], 'title': ['中心国际断工化为了，你们说还能指望谁？']},\n",
       " {'date': ['08-08 11:06'], 'title': ['无聊看了一下自选股，全身翻倍股，后悔买了你这垃圾']},\n",
       " {'date': ['08-06 21:26'], 'title': ['8月5日，世界品牌大会正式发布2020年《中国500最具价']},\n",
       " {'date': ['08-06 10:22'], 'title': ['上海电气第一目标进场位在5.60元左右']},\n",
       " {'date': ['08-05 09:29'], 'title': ['两万手压制单']},\n",
       " {'date': ['08-04 10:09'], 'title': ['昨天6元解套卖了[鼓掌]']},\n",
       " {'date': ['08-03 14:09'], 'title': ['立即买入']},\n",
       " {'date': ['07-30 15:20'], 'title': ['天天找跌，缺跌来找我吧！[怒]']},\n",
       " {'date': ['07-28 18:43'], 'title': ['明天一字板']},\n",
       " {'date': ['07-25 01:13'], 'title': ['下星期准备建仓了，看好5倍。。哈哈']},\n",
       " {'date': ['07-22 13:12'], 'title': ['真腊鸡！没资金进来！']},\n",
       " {'date': ['07-17 18:45'], 'title': ['今天第一次做融券卖出上海电气，目前还是对的，等主跌']},\n",
       " {'date': ['07-15 21:33'], 'title': ['分拆上市提振股价 是蜜糖还是砒霜?']},\n",
       " {'date': ['07-14 10:52'], 'title': ['集团是上海微电的大股东，给上海电气一点活，那是没有']},\n",
       " {'date': ['07-12 09:46'], 'title': ['涨跌不动，持股不动，睡觉！看表演至明年底！']},\n",
       " {'date': ['07-09 21:18'], 'title': ['靠新能源挣钱尚待时日']}]"
      ]
     },
     "execution_count": 6,
     "metadata": {},
     "output_type": "execute_result"
    }
   ],
   "source": [
    "all_datas"
   ]
  },
  {
   "cell_type": "code",
   "execution_count": 7,
   "metadata": {},
   "outputs": [
    {
     "data": {
      "text/plain": [
       "list"
      ]
     },
     "execution_count": 7,
     "metadata": {},
     "output_type": "execute_result"
    }
   ],
   "source": [
    "type(all_datas)"
   ]
  },
  {
   "cell_type": "code",
   "execution_count": 9,
   "metadata": {},
   "outputs": [
    {
     "data": {
      "text/html": [
       "<div>\n",
       "<style scoped>\n",
       "    .dataframe tbody tr th:only-of-type {\n",
       "        vertical-align: middle;\n",
       "    }\n",
       "\n",
       "    .dataframe tbody tr th {\n",
       "        vertical-align: top;\n",
       "    }\n",
       "\n",
       "    .dataframe thead th {\n",
       "        text-align: right;\n",
       "    }\n",
       "</style>\n",
       "<table border=\"1\" class=\"dataframe\">\n",
       "  <thead>\n",
       "    <tr style=\"text-align: right;\">\n",
       "      <th></th>\n",
       "      <th>date</th>\n",
       "      <th>title</th>\n",
       "    </tr>\n",
       "  </thead>\n",
       "  <tbody>\n",
       "    <tr>\n",
       "      <th>0</th>\n",
       "      <td>[08-20 00:12]</td>\n",
       "      <td>[跑步入场！投资者数量首破1.7亿！新增2600亿杠杆资金 ]</td>\n",
       "    </tr>\n",
       "    <tr>\n",
       "      <th>1</th>\n",
       "      <td>[08-18 15:04]</td>\n",
       "      <td>[要整体上市吗]</td>\n",
       "    </tr>\n",
       "    <tr>\n",
       "      <th>2</th>\n",
       "      <td>[08-18 09:05]</td>\n",
       "      <td>[上海电气：融资净买入1829.49万元，融资余额8.8亿元（]</td>\n",
       "    </tr>\n",
       "    <tr>\n",
       "      <th>3</th>\n",
       "      <td>[08-14 21:56]</td>\n",
       "      <td>[[惨!关灯吃面][惨!关灯吃面][惨!关灯吃面]]</td>\n",
       "    </tr>\n",
       "    <tr>\n",
       "      <th>4</th>\n",
       "      <td>[08-13 22:31]</td>\n",
       "      <td>[政策性AMC还有多远？]</td>\n",
       "    </tr>\n",
       "  </tbody>\n",
       "</table>\n",
       "</div>"
      ],
      "text/plain": [
       "            date                             title\n",
       "0  [08-20 00:12]   [跑步入场！投资者数量首破1.7亿！新增2600亿杠杆资金 ]\n",
       "1  [08-18 15:04]                          [要整体上市吗]\n",
       "2  [08-18 09:05]  [上海电气：融资净买入1829.49万元，融资余额8.8亿元（]\n",
       "3  [08-14 21:56]        [[惨!关灯吃面][惨!关灯吃面][惨!关灯吃面]]\n",
       "4  [08-13 22:31]                     [政策性AMC还有多远？]"
      ]
     },
     "execution_count": 9,
     "metadata": {},
     "output_type": "execute_result"
    }
   ],
   "source": [
    "import pandas as pd\n",
    "df = pd.DataFrame(all_datas, columns=['date', 'title']) \n",
    "df.head()"
   ]
  },
  {
   "cell_type": "code",
   "execution_count": 13,
   "metadata": {},
   "outputs": [],
   "source": [
    "df.to_csv('D:\\个人\\软件训练营\\Huge-Project\\extra\\评论.csv',encoding = 'utf-8-sig')"
   ]
  }
 ],
 "metadata": {
  "kernelspec": {
   "display_name": "Python 3",
   "language": "python",
   "name": "python3"
  },
  "language_info": {
   "codemirror_mode": {
    "name": "ipython",
    "version": 3
   },
   "file_extension": ".py",
   "mimetype": "text/x-python",
   "name": "python",
   "nbconvert_exporter": "python",
   "pygments_lexer": "ipython3",
   "version": "3.7.6"
  }
 },
 "nbformat": 4,
 "nbformat_minor": 4
}
